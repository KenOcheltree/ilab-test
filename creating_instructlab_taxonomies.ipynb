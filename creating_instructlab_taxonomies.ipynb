{
  "cells": [
    {
      "cell_type": "markdown",
      "metadata": {
        "id": "S7ih7e5O6rX_",
        "tags": []
      },
      "source": [
        "# Creating InstructLab Taxonomies\n",
        "\n",
        "<ul>\n",
        "<li>Contributors: InstructLab team and IBM Research Technology Education team:\n",
        "<li>Questions and support: kochel@us.ibm.com, IBM.Research.JupyterLab@ibm.com\n",
        "<li>Release date: 2025-03-20\n",
        "</ul>"
      ]
    },
    {
      "cell_type": "markdown",
      "metadata": {
        "id": "Ics9GgZ-6rYB",
        "jp-MarkdownHeadingCollapsed": true,
        "tags": []
      },
      "source": [
        "# Summary\n",
        "This Jupyter notebook facilitates compiling taxonomies for InstructLab, an open source AI project that facilitates knowledge and skills contributions to Large Language Models (LLMs). InstructLab uses a novel synthetic data-based alignment tuning method for Large Language Models introduced in this [paper](https://arxiv.org/abs/2403.01081). The open source InstructLab repository is available [here](https://github.com/instructlab/instructlab) and provides additional documentation on using InstructLab.\n",
        "\n",
        "The InstructLab method consists of three major components:\n",
        "* **Taxonomy-driven data curation:**  The taxonomy is a set of training data curated by humans as examples of new knowledge and skills for the model.\n",
        "* **Large-scale synthetic data generation:** A teacher model is used to generate new examples based on the seed training data. Since synthetic data can vary in quality, InstructLab adds an automated step to refine the example answers, ensuring they are grounded and safe.\n",
        "* **Iterative model alignment tuning:** The model is retrained based on the synthetic data. The InstructLab method includes two tuning phases: knowledge tuning, followed by skill tuning.\n",
        "\n",
        "<img src=\"https://github.com/KenOcheltree/ilab-colab/blob/main/data/images/Flow.png?raw=1\" width=\"800\">\n",
        "\n",
        "InstructLab can take the form of an open source installation or a Red Hat AI InstructLab installation. In this notebook, we will demonstrate the open source version of InstructLab running on Colab with a GPU, broken into the following major sequential sections:\n",
        "* Configuring InstructLab\n",
        "* Generating Syntehtic Data\n",
        "* Training with InstructLab\n",
        "* Inferencing with InstructLab"
      ]
    },
    {
      "cell_type": "markdown",
      "metadata": {
        "id": "iJjDTcrmAPVS"
      },
      "source": [
        "# Running this Notebook\n",
        "\n",
        "**IMPORTANT:** This notebook must be run within a Colab GPU runtime. You can check you are running with a GPU by selecting Runtime-> Change Runtime Type and confirming that a GPU Runtime is selected. While this notebook can be started on a free Colab account, the GPUs availabe with a free access do not have sufficient memory to run InstructLab training.\n",
        "\n",
        "You can run this notebook either:\n",
        "- Running All Cells by selecting Runtime->Run all\n",
        "- Cell by cell by selecting the arrow on each code cell and running them sequentially.\n",
        "\n",
        "Once the Configuring Instructlab section has been run, the other sections of this notebook can be repeatedly run on other data sets."
      ]
    },
    {
      "cell_type": "markdown",
      "metadata": {
        "id": "hlk9FjFB6rYD",
        "tags": []
      },
      "source": [
        "# Section 1. Configure InstructLab\n",
        "\n",
        "## Step 1.1 Environment Configuration\n",
        "Replicate the ilab data repository containing the pip requirements and data files and run the pip installs that require a reset.\n",
        "\n",
        "**IMPORTANT:** Run the next cell, allow it to complete running, then Restart the session , run the following cell to specify parameters and then you can run the remainder of the notebook. Ignore any spurious pip install warnings or errors.\n",
        "\n",
        "After selecting parameters, the remainder of this notebook can be run either:\n",
        "- Running All Cells by selecting Runtime->Run cell and below\n",
        "- Cell by cell by selecting the arrow on each code cell and running them sequentially.\n"
      ]
    },
    {
      "cell_type": "code",
      "execution_count": null,
      "metadata": {
        "id": "rde52-02CfiL"
      },
      "outputs": [],
      "source": [
        "# Run this cell, then perform the requested Reset\n",
        "import os\n",
        "if not os.path.exists(\"ilab\"):\n",
        "    !git clone https://github.com/KenOcheltree/ilab-test.git ilab"
      ]
    },
    {
      "cell_type": "markdown",
      "metadata": {
        "id": "_dmB_IVBPkZ1",
        "jp-MarkdownHeadingCollapsed": true,
        "tags": []
      },
      "source": [
        "## Step 1.2 Optionally, provide your own InstructLab QNA data set\n",
        "\n",
        "You can optionally provide your own InstructLab QNA file for processing in this step.\n",
        "\n",
        "**Note:** You may want to run this notebook with an existing dataset before creating your own to understand the InstructLab flow.\n",
        "\n",
        "Follow these steps to add your own dataset:\n",
        "1. Create your own qna.yaml file following the directions on the InstructLab taxonomy [readme](https://github.com/instructlab/taxonomy).\n",
        "1. Create a questions.txt file with related sample questions to use on inferencing.\n",
        "1. Add your qna.yaml and sample questions.txt files to the /content/ilab/data/your_content_1 folder or the /content/ilab/data/your_content_2 folder by dragging and dropping them in the desired folder.\n",
        "1. Double click on the /content/ilab/config.json file to edit and specify the qna_location where your data resides within the Dewey Decimal classification system. Close and save the config.json file.\n",
        "1. You can now specify to run with your own data by selecting **Your Content 1** or **Your Content 2** in the next code cell."
      ]
    },
    {
      "cell_type": "markdown",
      "metadata": {
        "id": "OV_SZDBZgMVa"
      },
      "source": [
        "## Step 1.3 Select InstructLab Parameters\n",
        "Run this next cell, select the following parameters, then follow the direction in the next text cell to run the notebook.\n",
        "\n",
        "We've provided question-and-answer files for these datasets: \"2024 Oscar Awards Ceremony\" and \"Quantum Roadmap and Patterns\" and \"Artificial Intelligence Agents\". Feel free to choose one of these datasets, or select your own custom dataset in the cell below."
      ]
    },
    {
      "cell_type": "code",
      "execution_count": null,
      "metadata": {
        "id": "9E0Z6oO2L_3I"
      },
      "outputs": [],
      "source": [
        "# Run this second cell to show parameters\n",
        "import ipywidgets as widgets\n",
        "#See instructions on placing your hf_token in colab userdata\n",
        "from google.colab import userdata\n",
        "hf_token=userdata.get('hf_token')\n",
        "data_set = widgets.ToggleButtons(\n",
        "    options=['2024 Oscars', 'Quantum', 'Agentic AI', 'Your Content 1', 'Your Content 2'],\n",
        "    description='Dataset:', style={\"button_width\": \"auto\"}\n",
        ")\n",
        "questions=widgets.ToggleButtons(options=['Yes','No'],description='Live Q&A:',style={\"button_width\":\"auto\"})\n",
        "download=widgets.ToggleButtons(options=['Yes','No'],description='Download:',style={\"button_width\":\"auto\"}\n",
        ")\n",
        "print(\"\\nSelect the Dataset for this run:\")\n",
        "display(data_set)\n",
        "print(\"Select what to do with the taxonomy after creation:\")\n",
        "questions.value=\"Yes\"\n",
        "display(questions)\n",
        "download.value=\"No\"\n",
        "display(download)\n",
        "print(\"After selecting the parameters, select the next cell and then choose Runtime->Run cell and below\")\n",
        "print(\"When that run completes, you can come here, choose different parameters and rerun at the next cell with Runtime->Run cell and below\")\n",
        "print(\"Note: You can also go back and rerun individual sections of the notebook with different parameters.\")"
      ]
    },
    {
      "cell_type": "markdown",
      "metadata": {
        "id": "OVAfX3Q5CfiL",
        "tags": []
      },
      "source": [
        "## 1.4 Complete Environment Set Up and Optionally Run All\n",
        "This next code cell installs the remainder of the reuired pip packages and takes about 7 minutes to run.\n",
        "\n",
        "If you perform **Runtime->Run cell and below** on this cell, the rest of notebook will take about an hour to run. After running, it will present a prompt for providing questions to the pre-trained and trained models to test improvements in the model.\n",
        "\n",
        "**Note:** Please ignore the pip dependency errors that appear in the output of the pip installs. They do not affect the successful running of Instructlab."
      ]
    },
    {
      "cell_type": "code",
      "execution_count": null,
      "metadata": {
        "id": "aFtTdSAbCfiL"
      },
      "outputs": [],
      "source": [
        "# Run the rest of the notebook by selecting this third cell and choosing \"Runtime->Run cell and below\"\n",
        "!pip install -r ilab/requirements.txt\n",
        "!pip list"
      ]
    },
    {
      "cell_type": "markdown",
      "metadata": {
        "id": "1Mlth0Vetawj"
      },
      "source": [
        "Wrap code cell output for ease of reading"
      ]
    },
    {
      "cell_type": "code",
      "execution_count": null,
      "metadata": {
        "id": "abrPE0P18BWC"
      },
      "outputs": [],
      "source": [
        "from IPython.display import HTML, display\n",
        "def set_css():\n",
        "  display(HTML('''\n",
        "  <style>\n",
        "    pre {\n",
        "        white-space: pre-wrap;\n",
        "    }\n",
        "  </style>\n",
        "  '''))\n",
        "get_ipython().events.register('pre_run_cell', set_css)"
      ]
    },
    {
      "cell_type": "markdown",
      "metadata": {
        "id": "2_TTU5vUhXvM",
        "tags": []
      },
      "source": [
        "## Step 1.5 Check Starting Configuration\n",
        "### Check InstructLab Version\n",
        "\n",
        "Check that InstructLab is installed properly and is configured for using a GPU.\n",
        "\n",
        "The first line from 'InstructLab' section will give the InstructLab version."
      ]
    },
    {
      "cell_type": "code",
      "execution_count": null,
      "metadata": {
        "id": "BqjqIGE06rYE"
      },
      "outputs": [],
      "source": [
        "!ilab system info"
      ]
    },
    {
      "cell_type": "markdown",
      "metadata": {
        "id": "M5EcJoSS6rYD",
        "tags": []
      },
      "source": [
        "<a id=\"IL1_check\"></a>\n",
        "## Perform Imports and Check for a GPU\n",
        "\n",
        "This code cell checks for a GPU in the configuration. This notebook requires a GPU in the configuration to run properly."
      ]
    },
    {
      "cell_type": "code",
      "execution_count": null,
      "metadata": {
        "id": "kLDdSBiX6rYD"
      },
      "outputs": [],
      "source": [
        "import os\n",
        "import torch\n",
        "from IPython.display import Image, display\n",
        "from datasets import load_dataset\n",
        "from langchain.llms import LlamaCpp\n",
        "from langchain.prompts import PromptTemplate\n",
        "from langchain_core.output_parsers import StrOutputParser\n",
        "import json\n",
        "import subprocess\n",
        "import shutil\n",
        "import ruamel.yaml\n",
        "os.environ['NUMEXPR_MAX_THREADS'] = '64'\n",
        "Norm = \"<p style='font-family:IBM Plex Sans;font-size:20px'>\"\n",
        "\n",
        "notebook_dir='/content/ilab/'\n",
        "os.chdir(notebook_dir)\n",
        "\n",
        "## torch and cuda version check\n",
        "TORCH_VERSION = \".\".join(torch.__version__.split(\".\")[:2])\n",
        "CUDA_VERSION = torch.__version__.split(\"+\")[-1]\n",
        "print(\"torch: \", TORCH_VERSION, \"; cuda: \", CUDA_VERSION)\n",
        "\n",
        "if torch.cuda.is_available() is False:\n",
        "    print(\"No GPU in configuration\")\n",
        "else:\n",
        "    os.environ[\"PYTORCH_CUDA_ALLOC_CONF\"] = \"expandable_segments:True\"\n",
        "    print(\"GPU(s) are Available\")\n",
        "    gpus=torch.cuda.device_count()\n",
        "    if gpus==1:\n",
        "      gpu_type=torch.cuda.get_device_name(0)\n",
        "      print(\"One GPU of Type: \", gpu_type)\n",
        "    else:\n",
        "      print(\"ERROR: More than 1 GPU in configuration: \",gpus)\n",
        "print(\"Starting directory: \"+ os.getcwd())"
      ]
    },
    {
      "cell_type": "markdown",
      "metadata": {
        "id": "uv5uMvQ-a-ZF",
        "tags": []
      },
      "source": [
        "<a id=\"IL1_config\"></a>\n",
        "## Step 1.6 Configure InstructLab\n",
        "\n",
        "### Create InstructLab config file\n",
        "The InstructLab configuration is captured in the *config.yaml* file. This step creates the config.yaml file and sets:\n",
        "- **taxomony_path = taxonomy** - the root location of the taxonomy is set to the taxonomy folder in instructlab-latest\n",
        "- **model_path = models/merlinite-7b-lab-Q4_K_M.gguf** - the default model is set to merlinite\n",
        "\n",
        "**Note:** The default directories for InstructLab are the following. If you initialize InstructLab on your own system, it will default to the following:\n",
        "* **Downloaded Models:**  ~/.cache/instructlab/models/ - Contains all downloaded large language models, including the saved output of ones you generate with ilab.\n",
        "* **Synthetic Data:** ~/.local/share/instructlab/datasets/ - Contains data output from the SDG phase, built on modifications to the taxonomy repository.\n",
        "* **Taxonomy:** ~/.local/share/instructlab/taxonomy/ - Contains the skill and knowledge data.\n",
        "* **Training Output:** ~/.local/share/instructlab/checkpoints/ - Contains the output of the training process.\n",
        "* **config.yaml:** ~/.config/instructlab/config.yaml - Contains the config.yaml file"
      ]
    },
    {
      "cell_type": "code",
      "execution_count": null,
      "metadata": {
        "id": "QX9s4XZx6rYF"
      },
      "outputs": [],
      "source": [
        "#Remove Colab Sample directory\n",
        "if os.path.exists(\"sample_data\"):\n",
        "    print(\"removing sample_data\")\n",
        "    shutil.rmtree(\"sample_data\")\n",
        "    os.chdir(\"ilab\")\n",
        "\n",
        "#Initialize ilab\n",
        "base_dir=\"/root/\"\n",
        "##Choose the base model as granite or mixtral\n",
        "model_dir=\"models\"\n",
        "model_name=\"granite-7b-lab-Q4_K_M.gguf\"\n",
        "model_path = os.path.join(model_dir, model_name)\n",
        "\n",
        "taxonomy_path='taxonomy'\n",
        "\n",
        "## Define the file name\n",
        "file_name = \"config.yaml\"\n",
        "if os.path.exists(file_name):\n",
        "    os.remove(file_name)\n",
        "    print(f\"ilab was already initialized. {file_name} has been deleted. Reinitialized\")\n",
        "else:\n",
        "    print(f\"ilab was not initialized yet. {file_name} does not exist.\")\n",
        "\n",
        "##Remove old data\n",
        "if os.path.exists(\"taxonomy\"):\n",
        "    print(\"removing taxonomy\")\n",
        "    shutil.rmtree(\"taxonomy\")\n",
        "if os.path.exists(base_dir+\".cache/instructlab\"):\n",
        "    print(\"removing \" + base_dir+\".cache/instructlab\")\n",
        "    shutil.rmtree(base_dir+\".cache/instructlab\")\n",
        "if os.path.exists(base_dir+\".config/instructlab\"):\n",
        "    print(\"removing \" + base_dir+\".config/instructlab\")\n",
        "    shutil.rmtree(base_dir+\".config/instructlab\")\n",
        "if os.path.exists(base_dir+\".local/share/instructlab\"):\n",
        "    print(\"removing \" + base_dir+\".local/share/instructlab\")\n",
        "    shutil.rmtree(base_dir+\".local/share/instructlab\")\n",
        "\n",
        "print(f\"ilab model is {model_path}.\")\n",
        "print('#############################################################')\n",
        "print(' ')\n",
        "\n",
        "command = f\"\"\"\n",
        "ilab config init<<EOF\n",
        "{taxonomy_path}\n",
        "Y\n",
        "{model_path}\n",
        "0\n",
        "EOF\n",
        "\"\"\"\n",
        "\n",
        "## Using the ! operator to run the command\n",
        "!echo \"Running ilab config init\"\n",
        "!{command}"
      ]
    },
    {
      "cell_type": "markdown",
      "metadata": {
        "id": "P8rbeRKE6rYF"
      },
      "source": [
        "### Display the config.yaml file\n",
        "We examine the base configuration for identifying parameters for changing in the next step."
      ]
    },
    {
      "cell_type": "code",
      "execution_count": null,
      "metadata": {
        "id": "ZflN-eeu6rYF",
        "scrolled": true,
        "tags": []
      },
      "outputs": [],
      "source": [
        "##to copy config.yaml to local directory\n",
        "!cp /root/.config/instructlab/config.yaml .\n",
        "!cat config.yaml"
      ]
    },
    {
      "cell_type": "markdown",
      "metadata": {
        "id": "IDUmbbHLvxgg",
        "tags": []
      },
      "source": [
        "<a id=\"IL2_0\"></a>\n",
        "# Section 2. Create Taxonomy\n",
        "\n",
        "\n",
        "This section demonstrates training with InstructLab. This section is part of a sequential notebook. Before running this section of the notebook, please ensure that you have run the Configuring InstructLab section of this notebook. In this section, we will demonstrate creating a question and answer data file.\n",
        "\n",
        "\n",
        "The steps in this section are as follows:\n",
        "* Step 2.1 Specify the Data for this Run\n",
        "* Step 2.2 Create the Taxonomy Data Repository"
      ]
    },
    {
      "cell_type": "markdown",
      "metadata": {
        "id": "cnOLAXRxvxgh",
        "tags": []
      },
      "source": [
        "<a id=\"IL2_data\"></a>\n",
        "## Step 2.1 Specify the Data for this Run\n",
        "\n",
        "We've provided question-and-answer files for these datasets: \"2024 Oscar Awards Ceremony\", \"Quantum Roadmap and Patterns\" and \"Artificial Intelligence Agents\". Feel free to choose one of these datasets, or select your own custom dataset in the cell below."
      ]
    },
    {
      "cell_type": "markdown",
      "metadata": {
        "id": "ltRTPBTVvxgh",
        "tags": []
      },
      "source": [
        "### Optionally, Create your own data set for InstructLab\n",
        "\n",
        "You can optionally provide your own InstructLab QNA file for processing in this step.\n",
        "\n",
        "Follow these steps to add your own dataset:\n",
        "1. Create your own qna.yaml file following the directions on the InstructLab taxonomy [readme](https://github.com/instructlab/taxonomy).\n",
        "1. Create a questions.txt file with related sample questions to use on inferencing.\n",
        "1. Add your qna.yaml and sample questions.txt files to the /content/ilab/data/your_content_1 folder or the /content/ilab/data/your_content_2 folder by dragging and dropping them in the desired folder.\n",
        "1. Double click on the /content/ilab/config.json file to edit and specify the qna_location where your data resides within the Dewey Decimal classification system. Close and save the config.json file.\n",
        "1. You can now specify to run with your own data by selecting **Your Content 1** or **Your Content 2** in the next code cell."
      ]
    },
    {
      "cell_type": "code",
      "execution_count": null,
      "metadata": {
        "id": "DbnDz_4j5GNi"
      },
      "outputs": [],
      "source": [
        "print(\"\\nSelect the QNA dataset to add:\")\n",
        "display(data_set)\n",
        "print(\"After choosing your dataset, please select and run the following cell\")"
      ]
    },
    {
      "cell_type": "code",
      "execution_count": null,
      "metadata": {
        "id": "olkDUaKfvxgh"
      },
      "outputs": [],
      "source": [
        "print(\"Step 2.2 Choose the Dataset for this Run\")\n",
        "if data_set.value=='2024 Oscars':\n",
        "    use_case=\"oscars\"\n",
        "elif data_set.value=='Quantum':\n",
        "    use_case=\"quantum\"\n",
        "elif data_set.value=='Agentic AI':\n",
        "    use_case=\"agentic_ai\"\n",
        "elif data_set.value=='Your Content 1':\n",
        "    use_case=\"your_content_1\"\n",
        "elif data_set.value=='Your Content 2':\n",
        "    use_case=\"your_content_2\"\n",
        "else:\n",
        "    use_case=\"undefined\"\n",
        "    print(\"ERROR: Undefined data set: \" + data_set.value + \" data\")\n",
        "\n",
        "with open('config.json', 'r') as f:\n",
        "    jsonData = json.load(f)\n",
        "\n",
        "if use_case!=\"undefined\":\n",
        "    qna_file=\"data/\" + use_case + \"/qna.yaml\"\n",
        "    qna_location=jsonData[\"use_cases\"][use_case][\"qna_location\"]\n",
        "    print(\"Using \" + data_set.value + \" data\")"
      ]
    },
    {
      "cell_type": "markdown",
      "metadata": {
        "id": "NQBSnoObvxgh"
      },
      "source": [
        "<a id=\"IL2_taxonomy\"></a>\n",
        "## Step 2.2 Create the Taxonomy Data Repository\n",
        "Delete the prior repository, clone the empty taxonomy repository and place the QNA file\n"
      ]
    },
    {
      "cell_type": "code",
      "execution_count": null,
      "metadata": {
        "id": "Z2s_UhRCvxgh"
      },
      "outputs": [],
      "source": [
        "#Delete the prior repository and clone the empty taxonomy repository\n",
        "print(\"Delete the prior repository and clone the empty taxonomy repository\")\n",
        "shell_command1 = f\"rm -rf taxonomy\"\n",
        "taxonomy_repo=jsonData[\"taxonomy_repo\"]\n",
        "shell_command2 = f\"git clone {taxonomy_repo}\"\n",
        "!{shell_command1}\n",
        "!{shell_command2}\n",
        "\n",
        "#show the QNA file\n",
        "print(\"Show the QNA file\")\n",
        "print_lines=40\n",
        "with open(qna_file, 'r') as input_file:\n",
        "    for line_number, line in enumerate(input_file):\n",
        "        if line_number > print_lines:  # line_number starts at 0.\n",
        "            break\n",
        "        print(line, end=\"\")\n",
        "\n",
        "# Place the QNA file in the proper taxonomy directory\n",
        "print(\"Place QNA file in taxononmy as: /taxonomy/\"+qna_location+\"/qna.yaml\")\n",
        "shell_command1 = f\"mkdir -p ./taxonomy/{qna_location}\"\n",
        "shell_command2 = f\"cp ./{qna_file} ./taxonomy/{qna_location}/qna.yaml\"\n",
        "!{shell_command1}\n",
        "!{shell_command2}\n",
        "\n",
        "print(\"Verify the taxonomy\")\n",
        "!ilab taxonomy diff"
      ]
    },
    {
      "cell_type": "markdown",
      "metadata": {
        "id": "w5l5m7L_LDV1"
      },
      "source": [
        "# Section 5. Download the Trained Model\n",
        " Now that we have a model trained on our dataset, we can download the trained model for futher testing and use."
      ]
    },
    {
      "cell_type": "code",
      "execution_count": null,
      "metadata": {
        "id": "kx65h6u17SW_"
      },
      "outputs": [],
      "source": [
        "print(\"Do you want to download the trained model to your local machine?\")\n",
        "display(download)\n",
        "print(\"After making your selection, please select and run the following cell\")"
      ]
    },
    {
      "cell_type": "markdown",
      "metadata": {
        "id": "HwwZ4P6n7TDu"
      },
      "source": [
        "Select and run the next cell to download if selected."
      ]
    },
    {
      "cell_type": "code",
      "execution_count": null,
      "metadata": {
        "id": "uZsjOChUK7gj"
      },
      "outputs": [],
      "source": [
        "from google.colab import files\n",
        "if download.value=='Yes':\n",
        "  files.download(trained_model)"
      ]
    },
    {
      "cell_type": "markdown",
      "metadata": {
        "id": "3K4lhpzTvxgl",
        "tags": []
      },
      "source": [
        "<a id=\"IL3_conclusion\"></a>\n",
        "# Conclusion\n",
        "\n",
        "This notebook demonstrated utilizing InstructLab for introducing datasets, data generation, model training, and model creation. This notebook produced an InstructLab trained model that was available for inferecing and downloading."
      ]
    },
    {
      "cell_type": "markdown",
      "metadata": {
        "id": "63hBXXa0vxgl",
        "tags": []
      },
      "source": [
        "<a id=\"IL3_learn\"></a>\n",
        "# Learn More\n",
        "\n",
        "InstructLab uses a novel synthetic data-based alignment tuning method for Large Language Models introduced in this [paper](https://arxiv.org/abs/2403.01081).\n",
        "\n",
        "This notebook is based on the InstructLab CLI repository available [here](https://github.com/instructlab/instructlab).\n",
        "\n",
        "Contact us by email to ask questions, discuss potential use cases, or schedule a technical deep dive. The contact email is IBM.Research.JupyterLab@ibm.com."
      ]
    },
    {
      "cell_type": "markdown",
      "metadata": {
        "id": "poB7nDmcvxgl"
      },
      "source": [
        "© 2025 IBM Corporation"
      ]
    }
  ],
  "metadata": {
    "accelerator": "GPU",
    "colab": {
      "gpuType": "A100",
      "machine_shape": "hm",
      "provenance": []
    },
    "kernelspec": {
      "display_name": "Python 3",
      "name": "python3"
    },
    "language_info": {
      "codemirror_mode": {
        "name": "ipython",
        "version": 3
      },
      "file_extension": ".py",
      "mimetype": "text/x-python",
      "name": "python",
      "nbconvert_exporter": "python",
      "pygments_lexer": "ipython3",
      "version": "3.11.5"
    }
  },
  "nbformat": 4,
  "nbformat_minor": 0
}