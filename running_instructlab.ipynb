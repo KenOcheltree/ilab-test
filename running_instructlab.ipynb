{
 "cells": [
  {
   "cell_type": "markdown",
   "metadata": {
    "id": "S7ih7e5O6rX_",
    "tags": []
   },
   "source": [
    "# Running InstructLab\n",
    "\n",
    "<ul>\n",
    "<li>Contributors: InstructLab team and IBM Research Technology Education team\n",
    "<li>Contact for questions and technical support: IBM.Research.JupyterLab@ibm.com\n",
    "<li>Provenance: IBM Research\n",
    "<li>Version: 1.0.9\n",
    "<li>Release date: 2024-2-7\n",
    "<li>Compute requirements: CPU\n",
    "<li>Memory requirements: 16 GB\n",
    "<li>Notebook set: InstructLab\n",
    "</ul>"
   ]
  },
  {
   "cell_type": "markdown",
   "metadata": {
    "id": "Ics9GgZ-6rYB",
    "tags": []
   },
   "source": [
    "## Summary\n",
    "This notebook set demonstrates InstructLab, an open source AI project that facilitates knowledge and skills contributions to Large Language Models (LLMs). InstructLab uses a novel synthetic data-based alignment tuning method for Large Language Models introduced in this [paper](https://arxiv.org/abs/2403.01081). The open source InstructLab repository is available [here](https://github.com/instructlab/instructlab) and provides additional documentation on using InstructLab.\n",
    "\n",
    "InstructLab  can be instantiated in several different forms, depending on the processing capabilities available. InstructLab can take the form of an open source installation or a Red Hat AI InstructLab installation. The open source installation can be run on a range of hardware from a laptop to a build your own (BYO) server instance running on a Virtual Machine (VM). The below figure shows the different available instantiations of InstructLab.\n",
    "\n",
    "<img src=\"https://github.com/KenOcheltree/ilab-colab/blob/main/data/images/experiences.png?raw=1\" width=\"800\">\n",
    "\n",
    "In this notebook set, we will be demonstrating both the open source version running on a VM server and Red Hat Enterprise Linux AI InstructLab running on an IBM Cloud Server.\n",
    "\n",
    "The open source version running on a server is demonstrated in the following sections that are run sequentially:\n",
    "* [Configuring InstructLab](#IL1_0)\n",
    "* [Training with InstructLab](#IL2_0)\n",
    "* [Inferencing with InstructLab](#IL3_0)\n",
    "\n",
    "The Red Hat Enterprise Linux AI InstructLab is demonstrated running as a service in the IBM Cloud by running the following notebooks:\n",
    "- Configuring InstructLab\n",
    "- Training with Red Hat AI InstructLab Service\n",
    "- Inferencing with Redhat-AI-InstructLab Trained Model\n",
    "**Note:** The **Configuring InstructLab** notebook is run before the other Red Hat AI InstructLab notebooks to ensure that the *granite 7b model* is installed for inference comparisons as the base model."
   ]
  },
  {
   "cell_type": "markdown",
   "metadata": {
    "id": "QnQ88KKN6rYC",
    "tags": []
   },
   "source": [
    "<a id=\"IL0_0\"></a>\n",
    "# 1. Configuring InstructLab\n",
    "\n",
    "This notebook demonstrates the configuration of InstructLab. The InstructLab method consists of three major components:\n",
    "* **Taxonomy-driven data curation:**  The taxonomy is a set of training data curated by humans as examples of new knowledge and skills for the model.\n",
    "* **Large-scale synthetic data generation:** A teacher model is used to generate new examples based on the seed training data. Recognizing that synthetic data can vary in quality, the InstructLab method adds an automated step to refine the example answers, ensuring they are grounded and safe.\n",
    "* **Iterative model alignment tuning:** The model is retrained based on the synthetic data. The InstructLab method includes two tuning phases: knowledge tuning, followed by skill tuning.\n",
    "\n",
    "In this notebook, we will demonstrate the following steps:\n",
    "\n",
    "* [Step 0. Environment Preconfiguration](#IL1_preconfig)\n",
    "* [Step 1. Check the Starting Configuration](#IL1_init)\n",
    "* [Step 2. Configure InstructLab](#IL1_config)\n",
    "* [Step 3. Download Models](#IL1_down)\n",
    "\n",
    "**Note:** This notebook must be run within a GPU session. If you are not running with a GPU, please select **File->Hub Control Panel->Stop My Server**, then **Start My Server** and then select a GPU Session."
   ]
  },
  {
   "cell_type": "markdown",
   "metadata": {
    "id": "hlk9FjFB6rYD",
    "tags": []
   },
   "source": [
    "<a id=\"IL1_preconfig\"></a>\n",
    "## Step 1.0 Environment Preconfiguration\n",
    "This step has already been performed for this JupyterLab environment and requires no work by the user. This information is provided in case the user is setting up their own environment on their own laptop or server.\n",
    "\n",
    "The full steps for a direct installation are [here](https://github.com/instructlab/instructlab).\n",
    "\n"
   ]
  },
  {
   "cell_type": "code",
   "execution_count": null,
   "metadata": {
    "id": "vTGUHWBTA44y"
   },
   "outputs": [],
   "source": [
    "!python --version"
   ]
  },
  {
   "cell_type": "code",
   "execution_count": null,
   "metadata": {},
   "outputs": [],
   "source": [
    "!pip list"
   ]
  },
  {
   "cell_type": "code",
   "execution_count": null,
   "metadata": {
    "colab": {
     "base_uri": "https://localhost:8080/"
    },
    "id": "N0WsHUZ3BVD9",
    "outputId": "c2fd828e-1873-4e84-f87c-55adfb78b5b3",
    "scrolled": true,
    "tags": []
   },
   "outputs": [],
   "source": [
    "#Needed for widget support\n",
    "!pip install widgetsnbextension==3.6.1"
   ]
  },
  {
   "cell_type": "code",
   "execution_count": null,
   "metadata": {},
   "outputs": [],
   "source": [
    "#Used by dual screen support\n",
    "!pip install jupyter-ui-poll==0.2.2"
   ]
  },
  {
   "cell_type": "code",
   "execution_count": null,
   "metadata": {},
   "outputs": [],
   "source": [
    "#Used by dual screen\n",
    "!pip install ./whl/ipynb_pause-0.0.1-py3-none-any.whl"
   ]
  },
  {
   "cell_type": "code",
   "execution_count": null,
   "metadata": {},
   "outputs": [],
   "source": [
    "command = f\"\"\"\n",
    "pip uninstall instructlab<<EOF\n",
    "Y\n",
    "EOF\n",
    "\"\"\"\n",
    "## Uninstall old version of instructlab\n",
    "!echo \"Running ilab config init\"\n",
    "!{command}"
   ]
  },
  {
   "cell_type": "code",
   "execution_count": null,
   "metadata": {
    "scrolled": true,
    "tags": []
   },
   "outputs": [],
   "source": [
    "!pip install instructlab>=23.1"
   ]
  },
  {
   "cell_type": "markdown",
   "metadata": {},
   "source": [
    "Check that required packages have been installed"
   ]
  },
  {
   "cell_type": "code",
   "execution_count": null,
   "metadata": {
    "colab": {
     "base_uri": "https://localhost:8080/"
    },
    "id": "CpBk0GBek1wu",
    "outputId": "62ca3ad2-4fc3-4a46-a09e-551614a43846",
    "scrolled": true,
    "tags": []
   },
   "outputs": [],
   "source": [
    "!pip list"
   ]
  },
  {
   "cell_type": "markdown",
   "metadata": {
    "tags": []
   },
   "source": [
    "## Select Viewing Option \n",
    "\n",
    "This notebook was optimized for viewing the output in a separate panel:\n",
    "- If you would like to see the separate panel output, set `dual_screen` to *True* in the first line of the next cell and follow the steps below. \n",
    "- If you want the output inline with the notebook cells, set `dual_screen` to *False*. If you are running with the output inline with the notebook, please run the notebook cell by cell so that options can be selected.\n",
    "\n",
    "If you set `dual_screen` to *True*, perform the following:\n",
    "1. Right click on the same cell and select **Create New View for Output**.\n",
    "1. Drag the new **Output View** panel to the right side of the JupyterLab.\n",
    "1. Hide the File Browser by toggling the File Browser icon on the top left of the JupyterLab.\n",
    "1. To run the notebook, click on a notebook code cell, then from the top menu select *Kernel->Restart Kernel and Run All Cells*.\n",
    "1. Select options and the *Continue* button to progress with the notebook."
   ]
  },
  {
   "cell_type": "code",
   "execution_count": null,
   "metadata": {
    "scrolled": true,
    "tags": []
   },
   "outputs": [],
   "source": [
    "dual_screen = False\n",
    "\n",
    "from IPython.display import Image, display\n",
    "import ipywidgets as widgets\n",
    "from ipynb_pause import flow\n",
    "\n",
    "H1 = \"<p style='font-family:IBM Plex Sans;font-size:28px'>\"\n",
    "H2 = \"<p style='font-family:IBM Plex Sans;font-size:24px'>\"\n",
    "Norm = \"<p style='font-family:IBM Plex Sans;font-size:20px'>\"\n",
    "Small = \"<p style='font-family:IBM Plex Sans;font-size:17px'>\"\n",
    "Ex = \"<p style='font-family:IBM Plex Sans;font-size:20px;font-style:italic'>\"\n",
    "\n",
    "out = widgets.Output(layout={'border': '1px solid black'})\n",
    "run=flow.display_mode(mode=dual_screen, output=out, color='darkblue')\n",
    "if dual_screen:\n",
    "    display(out)"
   ]
  },
  {
   "cell_type": "markdown",
   "metadata": {
    "tags": []
   },
   "source": [
    "## Step 1.0 Introduction\n",
    "\n",
    "This notebook provides a template for running InstructLab in Python."
   ]
  },
  {
   "cell_type": "code",
   "execution_count": null,
   "metadata": {},
   "outputs": [],
   "source": [
    "if dual_screen:\n",
    "    with out:\n",
    "        out.clear_output()\n",
    "        display(widgets.HTML(H1+\"Step 1.0 Introduction\"))\n",
    "        display(Image(filename='data/images/Flow.png',width=1000))\n",
    "else: \n",
    "    display(Image(filename='data/images/Flow.png',width=1200))\n",
    "run.pause()"
   ]
  },
  {
   "cell_type": "markdown",
   "metadata": {
    "id": "M5EcJoSS6rYD",
    "tags": []
   },
   "source": [
    "<a id=\"IL1_check\"></a>\n",
    "## Step 1.1 Check the Starting Configuration\n",
    "\n",
    "### 1.1.1 Check for a GPU\n",
    "\n",
    "This code cell checks for a GPU in the configuration as is required to run the kernel.\n",
    "\n",
    "If you receive an error about a GPU not in the configuration, preform the following:\n",
    "1. Select File->Hub Control Panel.\n",
    "1. On the Hub Control Panel, select the blue \"Stop My Server\" button.\n",
    "1. Then select \"Start My Server\" and choose Session with a GPU.\n",
    "1. Check at the upper right that the kernel being run is \"conda-instructlab-latest\". If not, select the kernel and switch to the correct kernel."
   ]
  },
  {
   "cell_type": "code",
   "execution_count": null,
   "metadata": {
    "id": "kLDdSBiX6rYD"
   },
   "outputs": [],
   "source": [
    "## standard imports\n",
    "import os\n",
    "import torch\n",
    "\n",
    "## torch and cuda version check\n",
    "TORCH_VERSION = \".\".join(torch.__version__.split(\".\")[:2])\n",
    "CUDA_VERSION = torch.__version__.split(\"+\")[-1]\n",
    "print(\"torch: \", TORCH_VERSION, \"; cuda: \", CUDA_VERSION)\n",
    "\n",
    "if torch.cuda.is_available() is False:\n",
    "    print(\"No GPU in configuration\")\n",
    "else:\n",
    "    os.environ[\"PYTORCH_CUDA_ALLOC_CONF\"] = \"expandable_segments:True\"\n",
    "    print(\"GPU is Available\")"
   ]
  },
  {
   "cell_type": "markdown",
   "metadata": {
    "id": "2_TTU5vUhXvM",
    "tags": []
   },
   "source": [
    "### 1.1.2 Check InstructLab Version and GPU Offload\n",
    "\n",
    "Check that InstructLab version 0.23.1 is installed properly and is configured for using a GPU.\n",
    "\n",
    "The first line from 'InstructLab' section should read\n",
    "```\n",
    "instructlab.version: 0.23.1\n",
    "```"
   ]
  },
  {
   "cell_type": "code",
   "execution_count": null,
   "metadata": {
    "id": "BqjqIGE06rYE"
   },
   "outputs": [],
   "source": [
    "!ilab system info"
   ]
  },
  {
   "cell_type": "markdown",
   "metadata": {
    "id": "uv5uMvQ-a-ZF",
    "tags": []
   },
   "source": [
    "<a id=\"IL1_config\"></a>\n",
    "## Step 1.2 Configure InstructLab\n",
    "\n",
    "### 1.2.1 Create InstructLab config file\n",
    "The InstructLab configuration is captured in the *config.yaml* file. This step creates the config.yaml file and sets:\n",
    "- **taxomony_path = taxonomy** - the root location of the taxonomy is set to the taxonomy folder in instructlab-latest\n",
    "- **model_path = models/merlinite-7b-lab-Q4_K_M.gguf** - the default model is set to merlinite\n",
    "\n",
    "**Note:** The default directories for InstructLab are the following. If you initialize InstructLab on your own system, it will default to the following:\n",
    "* **Downloaded Models:**  ~/.cache/instructlab/models/ - Contains all downloaded large language models, including the saved output of ones you generate with ilab.\n",
    "* **Synthetic Data:** ~/.local/share/instructlab/datasets/ - Contains data output from the SDG phase, built on modifications to the taxonomy repository.\n",
    "* **Taxonomy:** ~/.local/share/instructlab/taxonomy/ - Contains the skill and knowledge data.\n",
    "* **Training Output:** ~/.local/share/instructlab/checkpoints/ - Contains the output of the training process.\n",
    "* **config.yaml:** ~/.config/instructlab/config.yaml - Contains the config.yaml file"
   ]
  },
  {
   "cell_type": "code",
   "execution_count": null,
   "metadata": {
    "id": "QX9s4XZx6rYF"
   },
   "outputs": [],
   "source": [
    "import shutil\n",
    "base_dir=\"/root/\"\n",
    "##Choose the base model as granite or mixtral\n",
    "model_dir=\"models\"\n",
    "model_name=\"granite-7b-lab-Q4_K_M.gguf\"\n",
    "model_path = os.path.join(model_dir, model_name)\n",
    "\n",
    "taxonomy_path='taxonomy'\n",
    "\n",
    "## Define the file name\n",
    "file_name = \"config.yaml\"\n",
    "if os.path.exists(file_name):\n",
    "    os.remove(file_name)\n",
    "    print(f\"ilab was already initialized. {file_name} has been deleted. Reinitialized\")\n",
    "else:\n",
    "    print(f\"ilab was not initialized yet. {file_name} does not exist.\")\n",
    "\n",
    "##Remove old data\n",
    "if os.path.exists(\"taxonomy\"):\n",
    "    print(\"removing taxonomy\")\n",
    "    shutil.rmtree(\"taxonomy\")\n",
    "if os.path.exists(base_dir+\".cache/instructlab\"):\n",
    "    print(\"removing \" + base_dir+\".cache/instructlab\")\n",
    "    shutil.rmtree(base_dir+\".cache/instructlab\")\n",
    "if os.path.exists(base_dir+\".config/instructlab\"):\n",
    "    print(\"removing \" + base_dir+\".config/instructlab\")\n",
    "    shutil.rmtree(base_dir+\".config/instructlab\")\n",
    "if os.path.exists(base_dir+\".local/share/instructlab\"):\n",
    "    print(\"removing \" + base_dir+\".local/share/instructlab\")\n",
    "    shutil.rmtree(base_dir+\".local/share/instructlab\")\n",
    "\n",
    "print(f\"ilab model is {model_path}.\")\n",
    "print('#############################################################')\n",
    "print(' ')\n",
    "\n",
    "command = f\"\"\"\n",
    "ilab config init<<EOF\n",
    "{taxonomy_path}\n",
    "Y\n",
    "{model_path}\n",
    "4\n",
    "1\n",
    "EOF\n",
    "\"\"\"\n",
    "\n",
    "## Using the ! operator to run the command\n",
    "!echo \"Running ilab config init\"\n",
    "!{command}"
   ]
  },
  {
   "cell_type": "markdown",
   "metadata": {
    "id": "P8rbeRKE6rYF"
   },
   "source": [
    "### 1.2.2 Display the config.yaml file\n",
    "We examine the base configuration for identifying parameters for changing in the next step."
   ]
  },
  {
   "cell_type": "code",
   "execution_count": null,
   "metadata": {
    "id": "pdZuLgLmcEO5"
   },
   "outputs": [],
   "source": [
    "!ilab config show"
   ]
  },
  {
   "cell_type": "code",
   "execution_count": null,
   "metadata": {
    "id": "ZflN-eeu6rYF",
    "scrolled": true,
    "tags": []
   },
   "outputs": [],
   "source": [
    "##to copy config.yaml to local directory\n",
    "!cp /root/.config/instructlab/config.yaml .\n",
    "!cat config.yaml"
   ]
  },
  {
   "cell_type": "markdown",
   "metadata": {
    "id": "cAL743VA6rYH"
   },
   "source": [
    "### 1.2.3 Customize LLM Models and copy to notebook for use\n",
    "\n",
    "This cell changes the models to use for the generate stage. The mistral model as the teacher model in the generate step and as the student model to be trained.\n",
    "\n",
    "If you want to customize other models for generation or the training phase, you would specify the models in this step.\n",
    "\n",
    "This step specifies that the models to be used will be from this notebook's models directory."
   ]
  },
  {
   "cell_type": "code",
   "execution_count": null,
   "metadata": {
    "id": "QILAQZYY6rYH",
    "scrolled": true,
    "tags": []
   },
   "outputs": [],
   "source": [
    "##Use ruamel.yaml to load the yaml file to preserve comments\n",
    "import ruamel.yaml\n",
    "yaml = ruamel.yaml.YAML()\n",
    "with open('config.yaml', 'r') as file:\n",
    "    config = yaml.load(file)\n",
    "\n",
    "##Upate to use the same models and just change the directory\n",
    "teacher_model_path = \"models/mistral-7b-instruct-v0.2.Q4_K_M.gguf\"\n",
    "base_model_path = \"models/instructlab/granite-7b-lab\"\n",
    "##judge_model_path = \"models/prometheus-eval/prometheus-8x7b-v2.0\"\n",
    "\n",
    "##config['evaluate']['mt_bench']['judge_model'] = judge_model_path\n",
    "##config['evaluate']['mt_bench_branch']['judge_model'] = judge_model_path\n",
    "config['generate']['model'] = teacher_model_path\n",
    "config['generate']['teacher']['model_path']= teacher_model_path\n",
    "##config['train']['phased_mt_bench_judge']=judge_model_path\n",
    "\n",
    "## Save the updated config.yaml file\n",
    "yaml.default_flow_style=False\n",
    "with open('config.yaml', 'w') as file:\n",
    "    yaml.dump(config, file)\n",
    "\n",
    "##copy the config file to the .config/instructlab/ where it is used by InstructLab\n",
    "!cp config.yaml {base_dir}.config/instructlab/\n",
    "\n",
    "print(\"Updated config.yaml successfully.\\n\")\n",
    "!cat config.yaml"
   ]
  },
  {
   "cell_type": "markdown",
   "metadata": {
    "id": "_dZgO-FZ6rYH"
   },
   "source": [
    "<a id=\"IL1_down\"></a>\n",
    "## Step 1.3 Download Models\n",
    "The models that will be used in the InstructLab processing are downloaded in this step. Additional steps can be added if other models are used in processing."
   ]
  },
  {
   "cell_type": "markdown",
   "metadata": {
    "id": "fI-25zVd6rYH"
   },
   "source": [
    "### 1.3.1 Download the merlinite and mistral-7b-instruct-v0.2.Q4_K_M models\n",
    "\n",
    "The merlinite model will be used as the teacher model for the simple pipeline in the [Training with InstructLab](#IL2_0) notebook.\n",
    "\n",
    "The mistral-7b-instruct-v0.2.Q4_K_M model will be used as the teacher model for the full pipeline in the same notebook.\n",
    "\n",
    "The granite07b-lab.gguf model is a quantized version oft eh granite-7b-lab model."
   ]
  },
  {
   "cell_type": "code",
   "execution_count": null,
   "metadata": {
    "id": "rCa2va8r6rYH"
   },
   "outputs": [],
   "source": [
    "models_dir=\"models\"\n",
    "hf_token = \"\"\n",
    "!ilab model download --hf-token {hf_token} --model-dir {models_dir}"
   ]
  },
  {
   "cell_type": "markdown",
   "metadata": {
    "id": "4d84cf2D6rYH",
    "tags": []
   },
   "source": [
    "### 1.3.2 Optionally Download the granite 7b safe tensors model"
   ]
  },
  {
   "cell_type": "code",
   "execution_count": null,
   "metadata": {
    "id": "EcYf96yxyr_X",
    "scrolled": true,
    "tags": []
   },
   "outputs": [],
   "source": [
    "##!ilab model download --repository instructlab/granite-7b-lab --hf-token {hf_token} --model-dir {models_dir}"
   ]
  },
  {
   "cell_type": "markdown",
   "metadata": {
    "id": "Hg-mhvIb6rYI",
    "tags": []
   },
   "source": [
    "### 1.3.3 Optionally download the prometheus-8x7b-v2.0 model\n",
    "The *prometheus-8x7b-v2.0* model is used as a judege model for multi-phase training and benchmark evaluation. This model is not required for simple or full training."
   ]
  },
  {
   "cell_type": "code",
   "execution_count": null,
   "metadata": {
    "id": "hT6ZHGmx6rYI"
   },
   "outputs": [],
   "source": [
    "##!ilab model download --repository prometheus-eval/prometheus-8x7b-v2.0 --hf-token {hf_token} --model-dir {models_dir}"
   ]
  },
  {
   "cell_type": "markdown",
   "metadata": {
    "tags": []
   },
   "source": [
    "<a id=\"IL2_0\"></a>\n",
    "# Training with InstructLab\n",
    "\n",
    "\n",
    "This notebook demonstrates InstructLab, a model-agnostic open source AI project that facilitates contributions to Large Language Models (LLMs).\n",
    "\n",
    "This notebook is part of a sequential notebook set. Before using this notebook, please ensure that you have run the first notebook in this  section: [Configuring InstructLab](#IL1_0).\n",
    "\n",
    "In this notebook, we will demonstrate the following:\n",
    "- Querying the LLM before \n",
    "- Creating a question and answer data file\n",
    "- Generating synthetic data for training\n",
    "- Training the LLM with the generated data\n",
    "\n",
    "**Notes:** This notebook must be run with a GPU. If you are not running with a GPU, please select File->Hub Control Panel->Stop My Server, then Start My Server and the select GPU Session \n",
    "\n",
    "* [Step 1. Import Libraries and Check Configuration](#IL2_import)\n",
    "* [Step 2. Specify the Data for this Run](#IL2_data)\n",
    "* [Step 3. Create the Taxonomy Data Repository](#IL2_taxonomy)\n",
    "* [Step 4. Generate Synthetic Data](#IL2_generate)\n",
    "* [Step 5. Train Model](#IL2_train)"
   ]
  },
  {
   "cell_type": "markdown",
   "metadata": {
    "tags": []
   },
   "source": [
    "<a id=\"IL2_import\"></a>\n",
    "## Step 2.1 Import Libraries and Check Configuration\n",
    "\n",
    "### 2.1.1. Imports and configuration\n",
    "\n",
    "This code cell also checks for GPU availability. This notebook requires a GPU to run in a reasonable time.\n",
    "\n",
    "Check that InstructLab version 0.23.1 is installed properly and is configured for using a GPU.\n",
    "\n",
    "The first line from 'InstructLab' section should read\n",
    "```\n",
    "instructlab.version: 0.23.1\n",
    "```\n",
    "and the last line should read\n",
    "```\n",
    "llama_cpp_python.supports_gpu_offload: True\n",
    "```"
   ]
  },
  {
   "cell_type": "code",
   "execution_count": null,
   "metadata": {},
   "outputs": [],
   "source": [
    "## standard imports\n",
    "import os\n",
    "import subprocess\n",
    "import torch\n",
    "import json\n",
    "\n",
    "os.environ['NUMEXPR_MAX_THREADS'] = '64'\n",
    "il_data_path= '/home/jovyan/.local/share/instructlab/datasets/'\n",
    "with open('config.json', 'r') as f:\n",
    "    jsonData = json.load(f)\n",
    "with open('instructlab.json', 'r') as f:\n",
    "    jsonState = json.load(f)    \n",
    "\n",
    "## torch and cuda version check\n",
    "TORCH_VERSION = \".\".join(torch.__version__.split(\".\")[:2])\n",
    "CUDA_VERSION = torch.__version__.split(\"+\")[-1]\n",
    "\n",
    "if dual_screen:\n",
    "    with out:\n",
    "        out.clear_output()\n",
    "        display(widgets.HTML(H1+\"Step 2.1 Import Libraries and Check Configuration\"))\n",
    "        display(widgets.HTML(H1+\"2.1.1 Imports and configuration\"))\n",
    "        display(widgets.HTML(Norm+\"Perform imports and see if a GPU is available\"))\n",
    "        print(\"torch: \", TORCH_VERSION, \"; cuda: \", CUDA_VERSION)\n",
    "        if torch.cuda.is_available() is False:\n",
    "            display(widgets.HTML(Norm+\"ERROR: GPU not in configuration, Please restart with a GPU\"))\n",
    "            run.resume() \n",
    "        else:\n",
    "            os.environ[\"PYTORCH_CUDA_ALLOC_CONF\"] = \"expandable_segments:True\"\n",
    "            print(\"GPU is Available\\n\")\n",
    "            display(widgets.HTML(Norm+\"Check if configuration supports GPU offload\"))\n",
    "            !ilab system info\n",
    "        \n",
    "else: \n",
    "    print(f\"Imports completed\")\n",
    "    print(\"torch: \", TORCH_VERSION, \"; cuda: \", CUDA_VERSION)\n",
    "    if torch.cuda.is_available() is False:\n",
    "        print(\"ERROR: GPU not in configuration, Please restart with a GPU\")\n",
    "    else:\n",
    "        os.environ[\"PYTORCH_CUDA_ALLOC_CONF\"] = \"expandable_segments:True\"\n",
    "        print(\"GPU is Available\\n\")\n",
    "        !ilab system info"
   ]
  },
  {
   "cell_type": "markdown",
   "metadata": {
    "tags": []
   },
   "source": [
    "### 2.1.2. Optionally test the base model before adding data\n",
    "\n",
    "At this point you may wish to run an InstructLab server and run queries against the base model. \n",
    "\n",
    "This may be useful if you are working with new content and want to query the base model to ascertain the responses before InstructLab training.\n",
    "\n",
    "After training, the [Inferencing with InstructLab](./02_inferencing_with_InstructLab.ipynb) notebook allows you to ask questions to both the base and InstructLab trained models and compare answers."
   ]
  },
  {
   "cell_type": "code",
   "execution_count": null,
   "metadata": {},
   "outputs": [],
   "source": [
    "if dual_screen:\n",
    "    with out:\n",
    "        display(widgets.HTML(H1+\"2.1.2 Optionally test the base model before adding data\"))\n",
    "    \n",
    "##!ilab model serve --model-path models/merlinite-7b-lab-Q4_K_M.gguf    \n",
    "    \n",
    "run.pause()    "
   ]
  },
  {
   "cell_type": "markdown",
   "metadata": {
    "tags": []
   },
   "source": [
    "<a id=\"IL2_data\"></a>\n",
    "## Step 2.2 Specify the Data for this Run\n",
    "\n",
    "We've provided question-and-answer files for these datasets: \"2024 Oscar Awards Ceremony\" and \"Quantum Roadmap and Patterns\" and \"Artificial Intelligence Agents\". Feel free to choose one of these datasets, or select your own custom dataset in the cell below."
   ]
  },
  {
   "cell_type": "markdown",
   "metadata": {
    "tags": []
   },
   "source": [
    "### 2.2.1 Optionally, Create your own data set for InstructLab\n",
    "\n",
    "Follow these steps to add your own dataset:\n",
    "1. Create your own **qna.yaml** file based on the example qna.yaml files provided in the /data/oscars, /data/quantum and /data/agentic_ai directories. Additional guidance on creating a properly formatted QNA.yaml file is found on the [InstructLab taxonomy readme](https://github.com/instructlab/taxonomy).\n",
    "1. Add your **qna.yaml** and sample **questions.txt** files to the **/data/your_content_1** folder or the **/data/your_content_2** folder.\n",
    "1. Right click on the **config.json** file and select Open With->Editort. Specify the **qna_location** where your data resides within the Dewy Decimal classification system. Close and save the **config.json** file.\n"
   ]
  },
  {
   "cell_type": "code",
   "execution_count": null,
   "metadata": {},
   "outputs": [],
   "source": [
    "data_set = widgets.ToggleButtons(\n",
    "    options=['2024 Oscars', 'Quantum', 'Agentic AI', 'Your Content 1', 'Your Content 2'],\n",
    "    tooltips=['2024 Oscar Awards Ceremony', 'Quantum Roadmap and Patterns', 'Artificial Intelligence Agents', 'Your own uploaded content dataset 1', 'Your own uploaded content dataset 2'],\n",
    "    description='Dataset:', disabled=False, button_style='', style={\"button_width\": \"auto\"}\n",
    ")\n",
    "print(\"\\nSelect the QNA dataset to add:\")\n",
    "display(data_set)\n",
    "if dual_screen:\n",
    "    with out:\n",
    "        out.clear_output()\n",
    "        display(widgets.HTML(H1+\"Step 2.2 Choose the Dataset for this Run\"))\n",
    "        display(widgets.HTML(Norm+\"<br>Select content for InstructLab processing from the following:\"))\n",
    "        display(data_set)\n",
    "        display(widgets.HTML(Small+\"Note: Choose <b>Demo Content</b> or <b>Your Own Content</b> if you are providing your own created QNA file\"))\n",
    "else:\n",
    "    print(\"After choosing your dataset for this run, please select and run the following cell\")        \n",
    "run.pause()"
   ]
  },
  {
   "cell_type": "code",
   "execution_count": null,
   "metadata": {},
   "outputs": [],
   "source": [
    "if dual_screen:\n",
    "    with out:\n",
    "        display(widgets.HTML(H1+\"Step 2.2 Choose the Dataset for this Run\"))\n",
    "        \n",
    "if data_set.value=='2024 Oscars':\n",
    "    use_case=\"oscars\"\n",
    "elif data_set.value=='Quantum':\n",
    "    use_case=\"quantum\"\n",
    "elif data_set.value=='Agentic AI':\n",
    "    use_case=\"agentic_ai\"\n",
    "elif data_set.value=='Your Content 1':\n",
    "    use_case=\"your_content_1\"\n",
    "elif data_set.value=='Your Content 2':\n",
    "    use_case=\"your_content_2\"\n",
    "else:\n",
    "    use_case=\"undefined\"\n",
    "    \n",
    "if use_case==\"undefined\":   \n",
    "    print(\"ERROR: Undefined data set: \" + data_set.value + \" data\")\n",
    "    if dual_screen:\n",
    "        with out:\n",
    "            display(widgets.HTML(Norm+\"ERROR: Undefined data set: \" + data_set.value + \" data\"))\n",
    "    run.pause()\n",
    "else:\n",
    "    jsonState[\"last_use_case\"]=data_set.value\n",
    "    with open('instructlab.json', 'w') as f:\n",
    "            json.dump(jsonState, f, indent=4)\n",
    "    qna_file=\"data/\" + use_case + \"/qna.yaml\"\n",
    "    qna_location=jsonData[\"use_cases\"][use_case][\"qna_location\"]            \n",
    "\n",
    "    print(\"Using \" + data_set.value + \" data\")\n",
    "    if dual_screen:\n",
    "        with out:\n",
    "            display(widgets.HTML(Norm+\"Using \" + data_set.value + \" data\"))     "
   ]
  },
  {
   "cell_type": "markdown",
   "metadata": {},
   "source": [
    "<a id=\"IL2_taxonomy\"></a>\n",
    "## Step 2.3 Create the Taxonomy Data Repository\n",
    "### 2.3.1 Delete the prior repository and clone the empty taxonomy repository\n",
    "We start with an empty repository. "
   ]
  },
  {
   "cell_type": "code",
   "execution_count": null,
   "metadata": {},
   "outputs": [],
   "source": [
    "shell_command1 = f\"rm -rf taxonomy\"\n",
    "taxonomy_repo=jsonData[\"taxonomy_repo\"]\n",
    "shell_command2 = f\"git clone {taxonomy_repo}\"\n",
    "if dual_screen:\n",
    "    with out:\n",
    "        out.clear_output()\n",
    "        display(widgets.HTML(H1+\"Step 2.3 Create the Taxonomy Data Repository\"))\n",
    "        display(widgets.HTML(H2+\"2.3.1 Delete the prior repository and clone the empty taxonomy repository\"))\n",
    "        !{shell_command1}\n",
    "        !{shell_command2}\n",
    "else:\n",
    "    print(\"Step 2.3 Create the Taxonomy data Repository\")\n",
    "    print(\"2.3.1 Delete the prior repository and clone the empty taxonomy repository\")\n",
    "    !{shell_command1}\n",
    "    !{shell_command2}"
   ]
  },
  {
   "cell_type": "markdown",
   "metadata": {
    "tags": []
   },
   "source": [
    "### 2.3.2 View the beginning of the QNA file"
   ]
  },
  {
   "cell_type": "code",
   "execution_count": null,
   "metadata": {},
   "outputs": [],
   "source": [
    "def print_file_top():\n",
    "    print_lines=40\n",
    "    with open(qna_file, 'r') as input_file:\n",
    "        for line_number, line in enumerate(input_file):\n",
    "            if line_number > print_lines:  # line_number starts at 0.\n",
    "                break\n",
    "            print(line, end=\"\")           \n",
    "\n",
    "if dual_screen:\n",
    "    with out:\n",
    "        display(widgets.HTML(H2+\"2.3.2 View the beginning of the QNA file\"))\n",
    "        print_file_top()\n",
    "else:\n",
    "    print(\"2.3.2 Show QNA file\")\n",
    "    print_file_top()"
   ]
  },
  {
   "cell_type": "markdown",
   "metadata": {
    "tags": []
   },
   "source": [
    "### 2.3.3 Place the QNA file in the proper taxonomy directory"
   ]
  },
  {
   "cell_type": "code",
   "execution_count": null,
   "metadata": {},
   "outputs": [],
   "source": [
    "##Should produce !mkdir -p ./taxonomy/knowledge/textbooks/culture/movies/awards/oscars\n",
    "shell_command1 = f\"mkdir -p ./taxonomy/{qna_location}\"\n",
    "shell_command2 = f\"cp ./{qna_file} ./taxonomy/{qna_location}/qna.yaml\"\n",
    "if dual_screen:\n",
    "    with out:\n",
    "        display(widgets.HTML(H2+\"2.3.3 Place the QNA file in the proper taxonomy directory\"))\n",
    "        display(widgets.HTML(Norm+\"Place QNA file in taxonomy as: /taxonomy/\"+qna_location+\"/qna.yaml\"))\n",
    "        !{shell_command1}\n",
    "        !{shell_command2}\n",
    "else:\n",
    "    print(\"2.3.3 Place the QNA file in the proper taxonomy directory\")\n",
    "    print(\"Place QNA file in taxononmy as: /taxonomy/\"+qna_location+\"/qna.yaml\")\n",
    "    !{shell_command1}\n",
    "    !{shell_command2}"
   ]
  },
  {
   "cell_type": "markdown",
   "metadata": {},
   "source": [
    "### 2.3.4 Verify the taxonomy\n",
    "We run the ilab taxonomy diff command to verify "
   ]
  },
  {
   "cell_type": "code",
   "execution_count": null,
   "metadata": {},
   "outputs": [],
   "source": [
    "if dual_screen:\n",
    "    with out:\n",
    "        display(widgets.HTML(H2+\"2.3.4 Verify the taxonomy\"))\n",
    "        !ilab taxonomy diff\n",
    "else:\n",
    "    print(\"Verify the taxonomy\")\n",
    "    !ilab taxonomy diff\n",
    "run.pause()"
   ]
  },
  {
   "cell_type": "markdown",
   "metadata": {
    "tags": []
   },
   "source": [
    "<a id=\"IL2_generate\"></a>\n",
    "## Step 2.4. Generate Synthetic Data\n",
    "\n",
    "This step will produce synthetic training data from the provided repository in the form of question and answer pairs. To generate synthetic data, InstructLab uses s large teacher model, such as Mixtral 8x7B, to create synthetic training data about the manually created data to train a small student model, such as the Merlinite 7B or Granite 7B models.\n",
    "\n",
    "You can skip this step and use the previously generated 500 synthetic samples found in the *generated* folder.\n",
    "\n",
    "### 2.4.1 Set data generation parameters\n",
    "\n",
    "#### Select pipeline\n",
    "\n",
    "InstructLab has three primary pipelines that can be used: simple, full and acellerated:\n",
    "- The **simple pipeline** runs fast and can be used for initial model and data testing. \n",
    "- The **full pipeline** runs all of the InstrctLab steps and takes more time but produces a better tuned model. \n",
    "- The **accelerated pipeline** runs the full pipeline processing using a GPU, so it produces a similarly tuned model in a shorter time.\n",
    "\n",
    "**Note:** If you are running with a new or modifed dataset, you may want to use the **Simple pipeline** for the first run to verify the configuration\n",
    "\n",
    "#### Sepect number of samples to generate\n",
    "\n",
    "Data generation takes 19 minutes for generating 15 synthetic data samples. You may wish to generate a small number on your first run to verify the QNA dataset format.\n",
    "\n",
    "To produce **sufficient synthetic data** to focus training on the new material, **about 30 synthetic questions and answer pairs need to be generated** for each question and answer pair provided. This will require a proportionally longer time to generate, but will provide better training.\n",
    "\n",
    "Before following these instructions, ensure the existing model you are adding skills or knowledge to is still running. Alternatively, ilab data generate can start a server for you if you provide a fully qualified model path via --model.\n",
    "\n",
    "To generate a synthetic dataset based on your newly added knowledge or skill set in taxonomy repository, run the following command:\n",
    "\n",
    "    ilab data generate\n",
    "\n",
    "#### **Simple Pipeline**\n",
    "\n",
    "The Simple Pipeline works solely with Merlinite 7b Lab as the teacher model. The Simple Pipeline is called without GPU acceleration as follows:\n",
    "\n",
    "    ilab data generate --pipeline simple\n",
    "\n",
    "#### **Full Pipeline**\n",
    "\n",
    "The Full Pipeline runs the full processing with a GPU. Currently, the Full Pipeline only supports the Mixtral and Mistral Instruct Family models as the teacher model.  This is due to only supporting specific model prompt templates.\n",
    "\n",
    "Using a non-default model such as Mixtral-8x7B-Instruct-v0.1) to generate data with the Full Pipeline:\n",
    "\n",
    "    ilab data generate --model ~/.cache/instructlab/models/mistralai/mixtral-8x7b-instruct-v0.1 --pipeline full --gpus 4\n",
    "\n",
    "**Note** Synthetic Data Generation can take from 15 minutes to 1+ hours to complete, depending on your computing resources."
   ]
  },
  {
   "cell_type": "code",
   "execution_count": null,
   "metadata": {
    "tags": []
   },
   "outputs": [],
   "source": [
    "pipe2 = widgets.ToggleButtons(\n",
    "    options=['Simple', 'Full with GPU', 'Demo (Use prior data)'],\n",
    "    tooltips=['Ilab Simple Pipeline', 'Full Pipe running on a GPU', 'Demo Run with previously created data'],\n",
    "    description='Processing:', disabled=False, button_style='', style={\"button_width\": \"auto\"}\n",
    ")\n",
    "instr=widgets.ToggleButtons(\n",
    "    options=['15', '50', '200', '450 (default)', '1000'],\n",
    "    description='# of QNAs:',\n",
    "    disabled=False,\n",
    "    button_style='',\n",
    "    style={\"button_width\": \"auto\"}\n",
    ")\n",
    "\n",
    "print(\"Select Pipeline to use\")\n",
    "display(pipe2)\n",
    "display(instr)\n",
    "if dual_screen:\n",
    "    with out:\n",
    "        out.clear_output()\n",
    "        display(widgets.HTML(H1+\"Step 2.4 Generate Synthetic Data\"))\n",
    "        display(pipe2)\n",
    "        display(instr)\n",
    "else:\n",
    "    print(\"After making your selections for data generation, please select and run the following cell\")        \n",
    "run.pause()"
   ]
  },
  {
   "cell_type": "markdown",
   "metadata": {
    "tags": []
   },
   "source": [
    "### 2.4.2 Run data generation\n",
    "Data generation takes 19 minutes for generating 15 synthetic data samples and takes longer to generate more samples."
   ]
  },
  {
   "cell_type": "code",
   "execution_count": null,
   "metadata": {
    "tags": []
   },
   "outputs": [],
   "source": [
    "directory = \"data/\"+ use_case+\"/ilab_generated/\"\n",
    "if pipe2.value!='Demo (Use prior data)':\n",
    "    if instr.value == '15':\n",
    "        sdg_factor=\"--sdg-scale-factor 1\"\n",
    "    elif instr.value == '50':\n",
    "        sdg_factor=\"--sdg-scale-factor 3\"\n",
    "    elif instr.value == '200':\n",
    "        sdg_factor=\"--sdg-scale-factor 13\"\n",
    "    elif instr.value == '450 (default)':\n",
    "        sdg_factor=\"\"\n",
    "    else:\n",
    "        sdg_factor=\"--sdg-scale-factor 67\"\n",
    "    # 'Fast (Simple)', 'Full with CPU'\n",
    "    if pipe2.value == 'Simple':\n",
    "        pipeline = 'simple'\n",
    "        model = 'models/merlinite-7b-lab-Q4_K_M.gguf'\n",
    "        gpus = '--gpus 1'\n",
    "    elif pipe2.value == 'Full with GPU':\n",
    "        pipeline = 'full'\n",
    "        model = 'models/mistral-7b-instruct-v0.2.Q4_K_M.gguf'\n",
    "        gpus = '--gpus 1'\n",
    "    else:\n",
    "        if dual_screen:\n",
    "            with out:\n",
    "                display(widgets.HTML(Norm+\"ERROR: Undefined pipeline\"))\n",
    "    \n",
    "    #Remove old data so there is only one test_merlinite and train_merlinite after generation\n",
    "    !rm -rf /home/jovyan/.local/share/instructlab/datasets/*\n",
    "    #shell_command = f\"ilab --verbose data generate --model {model} --num-cpus 10 {gpus} {sdg_factor} --taxonomy-path taxonomy --pipeline {pipeline} --max-num-tokens 512\"\n",
    "    shell_command = f\"ilab data generate --model {model} --num-cpus 10 {gpus} {sdg_factor} --taxonomy-path taxonomy --pipeline {pipeline} --max-num-tokens 512\"\n",
    "    if dual_screen:\n",
    "        with out:\n",
    "            display(widgets.HTML(H2+\"2.4.2 Run data generation (over 19 min)\"))\n",
    "            display(widgets.HTML(Norm+\"Running:<br> !\"+shell_command))\n",
    "            !{shell_command}\n",
    "    else:\n",
    "        print(\"Generating data\")\n",
    "        print(\"Running: !\"+shell_command)\n",
    "        !{shell_command}\n",
    "\n",
    "    #Rename results to  test_gen.jsonl and train_gen.jsonl and move to local data directory\n",
    "    if not os.path.exists(directory):\n",
    "        print(\"Create directory: \" + directory)\n",
    "        !mkdir {directory}\n",
    "    file_cnt=0\n",
    "    for dirname in os.listdir(il_data_path):\n",
    "        date_path=il_data_path+'/'+ dirname + '/'\n",
    "        for filename in os.listdir(date_path):\n",
    "            if filename[:6]=='train_':\n",
    "                train_name= 'train_gen.jsonl'\n",
    "                print('Renaming '+ filename+ ' to ' + train_name)\n",
    "                !mv {date_path+filename} {directory+train_name}\n",
    "                file_cnt+=1\n",
    "            elif filename[:5]=='test_':\n",
    "                test_name= 'test_gen.jsonl'\n",
    "                print('Renaming '+ filename+ ' to ' + test_name)\n",
    "                !mv {date_path+filename} {directory+test_name}\n",
    "                file_cnt+=1\n",
    "    if file_cnt < 2:\n",
    "        with out:\n",
    "            display(widgets.HTML(Norm+\"ERROR: train_gen.jsonl and/or test.jsonl not created\"))\n",
    "        print(\"ERROR: train_gen.jsonl and/or test.jsonl not created\") \n",
    "    elif os.path.getsize(directory+train_name) == 0:\n",
    "        with out:\n",
    "            display(widgets.HTML(Norm+\"ERROR: train_gen.jsonl file is empty\"))\n",
    "        print(\"ERROR: train_gen.jsonl file is empty\")\n",
    "    elif os.path.getsize(directory+test_name) == 0:\n",
    "        with out:\n",
    "            display(widgets.HTML(Norm+\"ERROR: test_gen.jsonl file is empty\"))\n",
    "        print(\"ERROR: test_gen.jsonl file is empty\")\n",
    "    else:\n",
    "        with out:\n",
    "            display(widgets.HTML(Norm+\"Training and test files successfully created in: \" + directory))\n",
    "        print(\"Training and test files successfully created in: \" + directory)\n",
    "        \n",
    "else:    \n",
    "    if dual_screen:\n",
    "        with out:\n",
    "            display(widgets.HTML(Norm+\"Using previously generated data\"))\n",
    "    print(\"Using previously generated data\")\n",
    "run.pause()   "
   ]
  },
  {
   "cell_type": "markdown",
   "metadata": {},
   "source": [
    "### 2.4.3 Show examples of generated data"
   ]
  },
  {
   "cell_type": "code",
   "execution_count": null,
   "metadata": {},
   "outputs": [],
   "source": [
    "if dual_screen:\n",
    "    with out:\n",
    "        display(widgets.HTML(H2+\"2.4.3 Show examples of generated data\"))\n",
    "else:\n",
    "    print(\"2.4.3 Show examples of generated data\")\n",
    "\n",
    "for filename in os.listdir(directory):\n",
    "    if filename[:9]=='train_gen':\n",
    "        with open(directory+filename, 'r') as syn_file:\n",
    "            cnt=0\n",
    "            for line_number, line in enumerate(syn_file):\n",
    "                if cnt >= 8:\n",
    "                    break\n",
    "                jsonLine= json.loads(line)\n",
    "                syn_user=jsonLine[\"user\"]\n",
    "                syn_assist=jsonLine[\"assistant\"]\n",
    "                #Remove \"Answer:\" and \"Response:\" from anawers for displaying\n",
    "                if syn_assist[:8]==\"Answer: \":\n",
    "                    syn_assist=syn_assist[8:]\n",
    "                cnt+=1\n",
    "                if dual_screen:\n",
    "                    with out:\n",
    "                        display(widgets.HTML(Norm+\"Question: \"+syn_user + \"<br>Answer: \" + syn_assist))\n",
    "                else:\n",
    "                    print(\"\\nQuestion: \"+syn_user+\"\\nAnswer: \"+syn_assist)\n",
    "                                    \n",
    "run.pause()"
   ]
  },
  {
   "cell_type": "markdown",
   "metadata": {
    "id": "PvTYe8oHdm13",
    "tags": []
   },
   "source": [
    "<a id=\"IL2_train\"></a>\n",
    "## Step 2.5 Train the Model\n",
    "\n",
    "### 2.5.1 Select the model training pipeline\n",
    "\n",
    "InstructLab has three primary model training pipelines: simple, full (default), and accelerated. For all of the models, the training time can be limited by adjusting the num_epoch paramater. The maximum number of epochs for running the InstructLab end-to-end workflow is 10.\n",
    "\n",
    "#### **Simple pipeline**\n",
    "\n",
    "The simple pipeline uses an SFT Trainer on Linux and MLX on MacOS. This type of training takes roughly an hour and produces the lowest fidelity model but should indicate if your data is being picked up by the training process. The simple pipeline only works with Merlinite 7b Lab as the teacher model. For this Linux system, the trained model is saved in the models directory as ggml-model-f16.gguf.\n",
    "\n",
    "The command form is:\n",
    "\n",
    "    ilab model train --pipeline simple\n",
    "\n",
    "**Note:** This process will take a little while to complete (time can vary based on hardware and output of ilab data generate but on the order of 5 to 15 minutes)\n",
    "\n",
    "#### **Full pipeline**\n",
    "\n",
    "The full pipeline uses a custom training loop and data processing functions for the granite family of models. This loop is optimized for CPU and MPS functionality. Please use **--pipeline=full** in combination with **--device=cpu** for this Linus system. For a MacOS system you can use --device=mps (MacOS) or --device=cpu, however, MPS is optimized for better performance on MacOS systems. The full pipeline only works with Mixtral and Mistral Instruct Family models as the teacher model. For the full pipeline, the models are saved in the ~/.local/share/instructlab/checkpoints directory. The instructlab command \"ilab model evaluate\" can be used to choose the best one.\n",
    "\n",
    "The command form is:\n",
    "\n",
    "    ilab model train\n",
    "\n",
    "\n",
    "**Note:** This process will take a while to complete. If you run for ~8 epochs it will take several hours.\n",
    "\n",
    "#### **Accelerated pipeline**\n",
    "\n",
    "The accelerated uses the instructlab-training library which supports GPU accelerated and distributed training. The full loop and data processing functions are either pulled directly from or based off of the work in this library. For the accelerated pipeline, the models are saved in the ~/.local/share/instructlab/checkpoints directory. The instructlab command \"ilab model evaluate\" can be used to choose the best one. Training is support for GPU acceleration with Nvidia CUDA or AMD ROCm. Please see the GPU acceleration documentation for more details. At present, hardware acceleration requires a data center GPU or high-end consumer GPU with at least 18 GB free memory.\n",
    "\n",
    "The command form is:\n",
    "\n",
    "    ilab model train --pipeline accelerated --device cuda --data-path <path-to-sdg-data>\n",
    "\n",
    "#### **Multiphase**\n",
    "\n",
    "When running multi phase training evaluation is run on each phase, we will tell you which checkpoint in this folder performs the best. Train the model locally with multi-phase training and GPU acceleration. This results in the following workflow:\n",
    "1. We train the model on knowledge\n",
    "1. Evaluate the trained model to find the best checkpoint\n",
    "1. We train the model on skills\n",
    "1. We evaluate the model to find the best overall checkpoint\n",
    "\n",
    "Phase 1 models saved in ~/.local/share/instructlab/phased/phase1/checkpoints (Knowledge training). Phase 2 models saved in ~/.local/share/instructlab/phased/phase2/checkpoints (Skills training). Evaluation is run for phase 2 to identify the best checkpoint.\n",
    "\n",
    "A multiphase training is of the form:\n",
    "\n",
    "    ilab model train --strategy lab-multiphase --phased-phase1-data <knowledge train messages jsonl> --phased-phase2-data <skills train messages jsonl> -y\n",
    "\n",
    "**Note:** This command may take 3 or more hours depending on the size of the data and number of training epochs you run.\n",
    "\n",
    "#### **Skills only**\n",
    "\n",
    "Phase 2 models saved in ~/.local/share/instructlab/phased/phase2/checkpoints (Skills training). Evaluation is run for phase 2 to identify the best checkpoint.\n",
    "\n"
   ]
  },
  {
   "cell_type": "code",
   "execution_count": null,
   "metadata": {},
   "outputs": [],
   "source": [
    "os.environ[\"PYTORCH_CUDA_ALLOC_CONF\"] = \"expandable_segments:True\"\n",
    "torch.cuda.empty_cache()\n",
    "\n",
    "pipe3 = widgets.ToggleButtons(\n",
    "    options=['Simple', 'Full with CPU', 'Accelerated GPU', 'Demo (Use prior data)'],\n",
    "    tooltips=['Ilab Simple Pipeline', 'Full Pipe running only on a CPU', 'Accelerated pipeline run on a GPU', 'Demo Run with previously created data'],\n",
    "    description='Processing', disabled=False, button_style='', style={\"button_width\": \"auto\"}\n",
    ")\n",
    "epoch=widgets.ToggleButtons(\n",
    "    options=['1', '2', '3', '4', '5', '10', '15'],\n",
    "    description='Epochs:',\n",
    "    disabled=False, button_style='', style={\"button_width\": \"auto\"}\n",
    ")\n",
    "it=widgets.ToggleButtons(\n",
    "    options=['1', '3', '5','10','20','50','100','200'],\n",
    "    description='Iterations:',\n",
    "    disabled=False, button_style='', style={\"button_width\": \"auto\"}\n",
    ")\n",
    "\n",
    "print(\"Select to Continue or to Train the model\")\n",
    "##pipe3.value=pipe.value\n",
    "display(pipe3)\n",
    "display(epoch)\n",
    "display(it)\n",
    "if dual_screen:\n",
    "    with out:\n",
    "        out.clear_output()\n",
    "        display(widgets.HTML(H1+\"Step 2.5 Train the Model\"))\n",
    "        display(widgets.HTML(H2+\"2.5.1 Select the model training pipeline\"))\n",
    "        display(widgets.HTML(Norm+\"<br>Select the processsing pipeline for this run. Use Fast for the first run on new data to verify configuration.\"))\n",
    "        display(pipe3)\n",
    "        display(epoch)\n",
    "        display(it)\n",
    "        display(widgets.HTML(Norm+\"<br>\"))\n",
    "else:\n",
    "    print(\"After choosing your training options, please select and run the following cell\")\n",
    "run.pause()"
   ]
  },
  {
   "cell_type": "markdown",
   "metadata": {},
   "source": [
    "### 2.5.2 Run the model training\n",
    "\n",
    "Model training takes 10 minutes for 1 epoch and 1 iteration. This minimal training could be used for testing the generation and training for a new set of data.\n",
    "\n",
    "To produce a higher quality model, more epochs and iterations are needed for refining the model. This will require a proportionally longer time to train the model."
   ]
  },
  {
   "cell_type": "code",
   "execution_count": null,
   "metadata": {
    "scrolled": true
   },
   "outputs": [],
   "source": [
    "data_path=\"data/\"+ use_case+\"/ilab_generated/\"\n",
    "train_data=data_path+\"train_gen.jsonl\"\n",
    "model_path=\"models/instructlab/granite-7b-lab\"\n",
    "##model_path='/home/jovyan/.cache/instructlab/models/instructlab/granite-7b-lab'\n",
    "trained_model_path=\"data/\"+ use_case+\"/new_model/\"\n",
    "\n",
    "##'Simple (Fast)', 'Full with CPU', 'Accelerated GPU','DDemo (Use prior data)'\n",
    "if pipe3.value=='Demo (Use prior data)':\n",
    "    if dual_screen:\n",
    "        with out:\n",
    "            display(widgets.HTML(H1+\"Step 2.5 Train the Model\"))\n",
    "            display(widgets.HTML(H2+\"2.5.2 Run the model training\"))\n",
    "            display(widgets.HTML(Norm+\"Using previously trained data\"))\n",
    "    print(\"Using previously trained data\")\n",
    "else:\n",
    "    file_cnt=0\n",
    "    for filename in os.listdir(data_path):\n",
    "        if filename[:15]=='train_gen.jsonl': file_cnt+=1\n",
    "        elif filename[:14]=='test_gen.jsonl': file_cnt+=1\n",
    "    if file_cnt < 2 or os.path.getsize(directory+train_name) < 5 or os.path.getsize(directory+test_name) < 5:\n",
    "        with out:\n",
    "            display(widgets.HTML(Norm+\"ERROR: train_gen.jsonl and/or test.jsonl are not present or too small\"))\n",
    "        print(\"ERROR: train_gen.jsonl and/or test.jsonl are not present or too small\") \n",
    "    \n",
    "    if not os.path.exists(trained_model_path):\n",
    "        print(\"Create directory: \" + trained_model_path)\n",
    "        !mkdir {trained_model_path}\n",
    "    ep=int(epoch.value)\n",
    "    its=int(it.value)\n",
    "    if pipe3.value=='Simple':\n",
    "        if dual_screen:\n",
    "            with out:\n",
    "                display(widgets.HTML(H1+\"Step 2.5 Train the Model\"))\n",
    "                display(widgets.HTML(H2+\"2.5.2 Run model training\"))\n",
    "                display(widgets.HTML(Norm+\"Train with a GPU with simple pipeline\"))\n",
    "        print(\"Train with simple pipeline with a GPU\")\n",
    "        shell_command = f\"ilab model train --pipeline simple --model-path {model_path} --data-path {data_path} --device cpu --num-epochs {ep} --iters {its}\"\n",
    "    if pipe3.value=='Full with CPU':\n",
    "        if dual_screen:\n",
    "            with out:\n",
    "                display(widgets.HTML(H1+\"Step 2.5 Train the Model\"))\n",
    "                display(widgets.HTML(H2+\"2.5 Run model training\"))\n",
    "                display(widgets.HTML(Norm+\"Train with a CPU\"))\n",
    "        print(\"Train with a CPU\")\n",
    "        shell_command = f\"ilab model train --pipeline full --model-path {model_path} --data-path {train_data} --device cpu\"\n",
    "    elif pipe3.value=='Accelerated GPU':\n",
    "        if dual_screen:\n",
    "            with out:\n",
    "                display(widgets.HTML(H1+\"Step 2.5 Train the Model\"))\n",
    "                display(widgets.HTML(H2+\"2.5.2 Run model training\"))\n",
    "                display(widgets.HTML(Norm+\"Train with a GPU\"))\n",
    "        print(\"Train with a GPU\")\n",
    "        shell_command = f\"ilab model train --pipeline accelerated --device cuda --model-path {model_path} --data-path {train_data} --num-epochs {ep} --iters {its}\"\n",
    "    if dual_screen:\n",
    "        with out:\n",
    "            display(widgets.HTML(Norm+\"Running: !\"+shell_command))\n",
    "            !{shell_command}\n",
    "            if pipe3.value=='Accelerated GPU' or pipe3.value=='Accelerated GPU with 4b Quantization':\n",
    "                !ilab model evaluate --benchmark mmlu\n",
    "    if not dual_screen:\n",
    "        print(\"Running: !\"+shell_command)\n",
    "        !{shell_command}\n",
    "        if pipe3.value=='Accelerated GPU' or pipe3.value=='Accelerated GPU with 4b Quantization':\n",
    "            !ilab model evaluate --benchmark mmlu\n",
    "    #Move the model to the use_case/new_model directory\n",
    "    if dual_screen:\n",
    "        with out:\n",
    "            display(widgets.HTML(Norm+\"Move the trained model to the directory: \"+trained_model_path))\n",
    "    print(\"Moving the trained model to the directory: \"+trained_model_path)\n",
    "    !mv /home/jovyan/.local/share/instructlab/checkpoints/ggml-model-f16.gguf {trained_model_path}\n",
    "run.pause()    "
   ]
  },
  {
   "cell_type": "markdown",
   "metadata": {},
   "source": [
    "<a id=\"IL2_test\"></a>\n",
    "## Step 6 Test the Model\n",
    "### 2.6.1 Run test on the model to see how it performs"
   ]
  },
  {
   "cell_type": "code",
   "execution_count": null,
   "metadata": {},
   "outputs": [],
   "source": [
    "##!ilab model test"
   ]
  },
  {
   "cell_type": "markdown",
   "metadata": {},
   "source": [
    "### 2.6.2 Evaluate the model"
   ]
  },
  {
   "cell_type": "code",
   "execution_count": null,
   "metadata": {},
   "outputs": [],
   "source": [
    "##ILAB_MODELS_DIR=$HOME/.local/share/instructlab/models\n",
    "##shell_command=f\"ilab model evaluate --benchmark mmlu --model {ILAB_MODELS_DIR}/instructlab/granite-7b-test\"\n",
    "##!{shell_command}"
   ]
  },
  {
   "cell_type": "markdown",
   "metadata": {
    "tags": []
   },
   "source": [
    "<a id=\"I3_0\"></a>\n",
    "# 3. Inferencing with InstructLab\n",
    "\n",
    "You have now completed InstructLab training. You can now select to run the [Inferencing with InstructLab](./02_inferencing_with_InstructLab.ipynb) notebook to ask questions to both the base and InstructLab trained models and to compare answers.\n",
    "\n",
    "This notebook is part of a sequential notebook set. Before using this notebook, please ensure that you have reviewed the first and second notebooks in the set:\n",
    "* <a href=\"#IL1_0\">Configuring InstructLab</a>\n",
    "* <a href=\"#IL2_0\">Training with InstructLab</a>\n",
    "\n",
    "The second notebook within this set showcases the generation of synthetic data utilizing InstructLab. It subsequently demonstrates how a large language model (LLM) can be effectively trained on this synthetic dataset. In current notebook, Both the pre-trained LLM and the LLM trained on the generated synthetic data are evaluated against a predefined set of questions to assess their respective performance.\n",
    "\n",
    "Inferences steps are:\n",
    "\n",
    "* <a href=\"#IL3_1\">Step 1. Import Libraries </a>\n",
    "* <a href=\"#IL3_2\">Step 2. Load the Base Model and the InstructLab Trained Model</a>\n",
    "* <a href=\"#IL3_3\">Step 3. Define a Function to Perform Inference on Base and Trained Models </a>\n",
    "* <a href=\"#IL3_4\">Step 4. Run Interactive Q&A Session with Base and Trained Models to Evaluate Performance</a>"
   ]
  },
  {
   "cell_type": "markdown",
   "metadata": {},
   "source": [
    "<a id=\"IL3_1\"></a>\n",
    "## Step 3.1 Import Libraries"
   ]
  },
  {
   "cell_type": "code",
   "execution_count": null,
   "metadata": {},
   "outputs": [],
   "source": [
    "if dual_screen:\n",
    "    with out:\n",
    "        out.clear_output()\n",
    "        display(widgets.HTML(H1+\"Step 3.1 Import Libraries\"))\n",
    "        display(widgets.HTML(Norm+\"We import the required libraries to generate Q&A session with LLMs\"))\n",
    "\n",
    "import shutil\n",
    "import os\n",
    "import json\n",
    "from datasets import load_dataset\n",
    "from langchain.llms import LlamaCpp\n",
    "from langchain.prompts import PromptTemplate\n",
    "from langchain_core.output_parsers import StrOutputParser\n",
    "\n",
    "with open('instructlab.json', 'r') as f:\n",
    "    jsonState = json.load(f)\n",
    "\n",
    "if dual_screen:\n",
    "    with out:\n",
    "        display(widgets.HTML(Norm+\"Imports completed\"))\n",
    "else: \n",
    "    print(f\"Imports completed\")\n",
    "run.pause()"
   ]
  },
  {
   "cell_type": "markdown",
   "metadata": {},
   "source": [
    "<a id=\"IL3_2\"></a>\n",
    "## Step 3.2 Load the Base Model and the InstructLab Trained Model\n",
    "The data set that was used in that last run of the [Training with InstructLab](#IL2_0) notebook is preselected for inferencing. You may select an alternative dataset if you wish.\n",
    "You can select the trained model to use for inferencing from:\n",
    "* **Fine Tuned Model** - A previously trained fine tuned model to demonstrate inferencing.\n",
    "* **Newly Trained Model** - Your trained model from prior runs of the [Training with InstructLab](#IL2_0) notebook. You can optionally place a model you wish to make comparisons with in the */data/data_set/new_model* directory.\n"
   ]
  },
  {
   "cell_type": "code",
   "execution_count": null,
   "metadata": {},
   "outputs": [],
   "source": [
    "data_set = widgets.ToggleButtons(\n",
    "    options=['2024 Oscars', 'Quantum', 'Agentic AI', 'Your Content 1', 'Your Content 2'],\n",
    "    tooltips=['2024 Oscar Awards Ceremony', 'Quantum Roadmap and Patterns', 'Artificial Intelligence Agents', 'Your own uploaded content dataset 1', 'Your own uploaded content dataset 2'],\n",
    "    description='Dataset:', disabled=False, button_style='', style={\"button_width\": \"auto\"}\n",
    ")\n",
    "model = widgets.ToggleButtons(\n",
    "    options=['Fine Tuned Model', 'Newly Tuned Model'],\n",
    "    tooltips=['Tested fine tuned model', 'Newly tuned model'],\n",
    "    description='Model:', disabled=False, button_style='', style={\"button_width\": \"auto\"}\n",
    ")\n",
    "\n",
    "print(\"\\nPlease select correct document which was used in notebook 01_training_with_InstructLab\")\n",
    "print(\"\\nSelect the content (Last used in training is preselected):\")\n",
    "data_set.value=jsonState[\"last_use_case\"]\n",
    "display(data_set)\n",
    "display(model)\n",
    "if dual_screen:\n",
    "    with out:\n",
    "        out.clear_output()\n",
    "        display(widgets.HTML(H1+\"Step 3.2 Load the Base Model and the InstructLab Trained Model\"))\n",
    "        display(widgets.HTML(Norm+\"<br>Select the content (Last used in training is preselected):\"))\n",
    "        display(data_set)\n",
    "        display(model)\n",
    "        display(widgets.HTML(Small+\"Select 'Demo Content' or 'Your Own Content' if you provided your own created QNA file\"))\n",
    "else:\n",
    "    print(\"After choosing your dataset for inferencing, select the following cell and continue running the notebook\")         \n",
    "run.pause()"
   ]
  },
  {
   "cell_type": "code",
   "execution_count": null,
   "metadata": {},
   "outputs": [],
   "source": [
    "if dual_screen:\n",
    "    with out:\n",
    "        display(widgets.HTML(H1+\"Step 3.2 Load the Base Model and the InstructLab Trained Model\"))\n",
    "        display(widgets.HTML(Norm+\"Using Data Set: \" + data_set.value))\n",
    "else:\n",
    "    print(\"Using Data Set: \" + data_set.value)\n",
    "if data_set.value=='2024 Oscars':\n",
    "    use_case=\"oscars\"\n",
    "elif data_set.value=='Quantum':\n",
    "    use_case=\"quantum\"\n",
    "elif data_set.value=='Agentic AI':\n",
    "    use_case=\"agentic_ai\"\n",
    "elif data_set.value=='Your Content 1':\n",
    "    use_case=\"your_content_1\"\n",
    "elif data_set.value=='Your Content 2':\n",
    "    use_case=\"your_content_2\"       \n",
    "else:\n",
    "    print(\"ERROR: Please select correct document which was used in notebook 01_training_with_InstructLab\")\n",
    "    if dual_screen:\n",
    "        with out:\n",
    "            display(widgets.HTML(Norm+\"ERROR: Please select correct document which was used in notebook 01_training_with_InstructLab\"))\n",
    "            \n",
    "if model.value == 'Fine Tuned Model':\n",
    "    directory=\"/fine_tuned_models/\"+use_case+\"/\"\n",
    "else:\n",
    "    directory=\"/data/\"+ use_case+\"/new_model/\"\n",
    "    \n",
    "notebook_dir=os.getcwd()\n",
    "os.chdir('/home/jovyan/')\n",
    "pwd= os.getcwd()\n",
    "\n",
    "base_model_path = notebook_dir +\"/models/granite-7b-lab-Q4_K_M.gguf\"\n",
    "trained_model_path = notebook_dir + directory+ \"ggml-model-f16.gguf\"\n",
    "\n",
    "if dual_screen:\n",
    "    with out:\n",
    "        display(widgets.HTML(Norm+\"Base model directory: \"+base_model_path))\n",
    "        display(widgets.HTML(Norm+\"Trained model directory: \"+trained_model_path))\n",
    "        display(widgets.HTML(Norm+\"Both LLMs are loaded\"))\n",
    "print(\"Base model directory: \"+base_model_path)\n",
    "print(\"Trained model directory: \"+trained_model_path)\n",
    "run.pause()"
   ]
  },
  {
   "cell_type": "markdown",
   "metadata": {
    "tags": []
   },
   "source": [
    "<a id=\"IL3_3\"></a>\n",
    "## Step 3.3 Define a Function to Perform Inference on Base and Trained Models"
   ]
  },
  {
   "cell_type": "code",
   "execution_count": null,
   "metadata": {},
   "outputs": [],
   "source": [
    "def model_inference(base_model_path, trained_model_path):\n",
    "    _DEFAULT_TEMPLATE = \"\"\"The following is a friendly conversation between a human and an AI. The AI is talkative and provides lots of specific details from its context. If the AI does not know the answer to a question, it truthfully says it does not know.\n",
    "\n",
    "    Current conversation:\n",
    "    Human: {input}\n",
    "    AI:\"\"\"\n",
    "    \n",
    "    base_llm = LlamaCpp(model_path=base_model_path,\n",
    "                   verbose=False,\n",
    "                   n_gpu_layers=25,\n",
    "                   max_tokens=90,\n",
    "                   temperature=0,\n",
    "                   top_k=1\n",
    "                  )\n",
    "    trained_llm = LlamaCpp(model_path=trained_model_path,\n",
    "                   verbose=False,\n",
    "                   n_gpu_layers=25,\n",
    "                   max_tokens=90,\n",
    "                   temperature=0,\n",
    "                   top_k=1\n",
    "                  )   \n",
    "\n",
    "    PROMPT = PromptTemplate( input_variables=[\"input\"], \n",
    "                            template=_DEFAULT_TEMPLATE\n",
    "                            )\n",
    "    \n",
    "    chain1 = PROMPT | base_llm | StrOutputParser()\n",
    "    chain2 = PROMPT | trained_llm | StrOutputParser()\n",
    "    if dual_screen:\n",
    "        with out:\n",
    "            display(widgets.HTML(Norm+\"Ready to ask questions in the code window\"))\n",
    "   \n",
    "    while True:\n",
    "        question = input(\"Ask me a question (type 'exit' to end): \")        \n",
    "        if question.lower() == 'exit':\n",
    "            if dual_screen:\n",
    "                with out:\n",
    "                    display(widgets.HTML(Norm+\"Exiting this Q&A session.\"))\n",
    "            else:\n",
    "                print(\"Exiting this Q&A session.\")\n",
    "            break\n",
    "        else:            \n",
    "            if dual_screen:\n",
    "                with out:\n",
    "                    display(widgets.HTML(Norm+\"<br>You asked: \" + question))\n",
    "                    answer1 = chain1.invoke(question)\n",
    "                    answer1= answer1.split('Human',1)[0]\n",
    "                    display(widgets.HTML(Norm+\"Base Model Answer: \" + answer1))\n",
    "                    answer2 = chain2.invoke(question)\n",
    "                    answer2= answer2.split('Human',1)[0] \n",
    "                    display(widgets.HTML(Norm+\"Trained Model Answer: \" + answer2))\n",
    "            else:\n",
    "                print(\"You asked: \", question)\n",
    "                answer1 = chain1.invoke(question)\n",
    "                answer1= answer1.split('Human',1)[0]\n",
    "                print (\"Base Model Answer: \",answer1)\n",
    "                answer2 = chain2.invoke(question)\n",
    "                answer2= answer2.split('Human',1)[0] \n",
    "                print (\"Trained Model Answer: \",answer2)\n",
    "if dual_screen:\n",
    "    with out:\n",
    "        out.clear_output()\n",
    "        display(widgets.HTML(H1+\"Step 3. Define a Function to Perform Inference on Base and Trained Models\"))\n",
    "        display(widgets.HTML(Norm+\"Function defined\"))\n",
    "else:\n",
    "    print(f\"Function to perform inference on LLMs defined\")\n",
    "    \n",
    "run.pause()"
   ]
  },
  {
   "cell_type": "markdown",
   "metadata": {
    "tags": []
   },
   "source": [
    "<a id=\"IL3_4\"></a>\n",
    "## Step 3.4 Run Interactive Q&A Session with Base and Trained Models to Evaluate Performance"
   ]
  },
  {
   "cell_type": "markdown",
   "metadata": {
    "tags": []
   },
   "source": [
    "### 3.4.1 Sample questions that can be asked to LLM\n",
    "\n",
    "The following are sample questions derived from the data used to generate synthetic data, which was then employed to train the language model."
   ]
  },
  {
   "cell_type": "code",
   "execution_count": null,
   "metadata": {},
   "outputs": [],
   "source": [
    "##Display Sample Questions\n",
    "with open(notebook_dir+'/data/' + use_case + '/questions.txt') as f:\n",
    "    for line in f.readlines():\n",
    "        display(widgets.HTML(Norm+line))\n",
    "\n",
    "if dual_screen:\n",
    "    with out:\n",
    "        display(widgets.HTML(H1+\"Step 3.4 Run Interactive Q&A Session\"))\n",
    "        display(widgets.HTML(Norm+\"Processing may take a couple minutes on the first run...\"))\n",
    "        model_inference(base_model_path, trained_model_path)\n",
    "else:\n",
    "    print(\"Processing may take several minutes on the first run...\")\n",
    "    model_inference(base_model_path, trained_model_path)\n",
    "run.resume()    "
   ]
  },
  {
   "cell_type": "markdown",
   "metadata": {
    "tags": []
   },
   "source": [
    "<a id=\"IL3_conclusion\"></a>\n",
    "# Conclusion\n",
    "\n",
    "This notebook demonstrated utilizing InstructLab for introducing datasets, data generation, model training, and model creation. This notebook produced an InstructLab trained model that was used for inferencing."
   ]
  },
  {
   "cell_type": "markdown",
   "metadata": {},
   "source": [
    "<a id=\"IL3_learn\"></a>\n",
    "# Learn More\n",
    "\n",
    "Proceed to run the [Inferencing with InstructLab](./02_inferencing_with_InstructLab.ipynb) notebook run inferencing on the InstructLab trained model. This will allow you to interact with your model to see how well it performs on queries, both before it was trained and after InstrutLab training\n",
    "\n",
    "This notebook is based on the InstructLab CLI repository available [here](https://github.com/instructlab/instructlab).\n",
    "\n",
    "InstructLab uses a novel synthetic data-based alignment tuning method for Large Language Models introduced in this [paper](https://arxiv.org/abs/2403.01081).\n",
    "\n",
    "Contact us by email to ask questions, discuss potential use cases, or schedule a technical deep dive. The contact email is IBM.Research.JupyterLab@ibm.com."
   ]
  },
  {
   "cell_type": "markdown",
   "metadata": {},
   "source": [
    "© 2025 IBM Corporation"
   ]
  }
 ],
 "metadata": {
  "accelerator": "GPU",
  "colab": {
   "gpuType": "T4",
   "provenance": []
  },
  "kernelspec": {
   "display_name": "Python 3",
   "language": "python",
   "name": "python3"
  },
  "language_info": {
   "codemirror_mode": {
    "name": "ipython",
    "version": 3
   },
   "file_extension": ".py",
   "mimetype": "text/x-python",
   "name": "python",
   "nbconvert_exporter": "python",
   "pygments_lexer": "ipython3",
   "version": "3.9.16"
  }
 },
 "nbformat": 4,
 "nbformat_minor": 4
}
